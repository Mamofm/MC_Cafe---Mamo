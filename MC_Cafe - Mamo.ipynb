{
 "cells": [
  {
   "cell_type": "code",
   "execution_count": 45,
   "id": "a1b6bfbd",
   "metadata": {},
   "outputs": [],
   "source": [
    "menu = {\"Coffee\" : {\"Espresso\"   : 1.50, \n",
    "                    \"Americano\"  : 2.00,\n",
    "                    \"Caffe latte\" : 2.25,\n",
    "                    \"Mocha\"      : 2.25,\n",
    "                    \"Cappucino\"  : 2.50,\n",
    "                    \"Macchiato\"  : 2.50\n",
    "                  },\n",
    "           \"Tea\" : {\"White tea\"  : 1.50,\n",
    "                    \"Green tea\"  : 2.00,\n",
    "                   \"Oolong tea\" : 2.25,\n",
    "                   \"Black tea\"  : 2.25,\n",
    "                   \"Earl Grey\"  : 2.50,\n",
    "                   \"Matcha\"     : 2.50\n",
    "                  },\n",
    "        \"Pastries\" : {\"Croissant\": 5.50,\n",
    "                      \"Cinnamon roll\": 4.50,\n",
    "                      \"Banana bread\" : 4.25,\n",
    "                      \"Pumpkin bread\": 3.75,\n",
    "                      \"Sticky bun\" : 4.25,\n",
    "                      \"Apple turnover\": 3.75\n",
    "                    }\n",
    "      } \n"
   ]
  },
  {
   "cell_type": "code",
   "execution_count": 77,
   "id": "db135818",
   "metadata": {},
   "outputs": [],
   "source": [
    "def getPrice(item):\n",
    "    found = False\n",
    "    for category, order in menu.items():\n",
    "        for key, value in order.items():\n",
    "            if item in str(key):\n",
    "                found = True\n",
    "                break\n",
    "                \n",
    "    if found == True:\n",
    "        price = value\n",
    "    else:\n",
    "        price = 0.0\n",
    "    \n",
    "    return value"
   ]
  },
  {
   "cell_type": "code",
   "execution_count": 78,
   "id": "b55b3686",
   "metadata": {},
   "outputs": [],
   "source": [
    "def displayMenu():\n",
    "    for category, order in menu.items():\n",
    "        print(f\"\\t{category}\")\n",
    "        for key, value in order.items():\n",
    "            print(f\"\\t\\t\\t{key} -  ${value:.2f}\")\n"
   ]
  },
  {
   "cell_type": "code",
   "execution_count": 79,
   "id": "21343e3e",
   "metadata": {},
   "outputs": [
    {
     "name": "stdout",
     "output_type": "stream",
     "text": [
      "Welcome to MC Cafe!\n",
      "\n",
      " Type y if you like to see our menu,  otherwise press any key to order with out menu:y\n",
      "\tCoffee\n",
      "\t\t\tEspresso -  $1.50\n",
      "\t\t\tAmericano -  $2.00\n",
      "\t\t\tCaffe latte -  $2.25\n",
      "\t\t\tMocha -  $2.25\n",
      "\t\t\tCappucino -  $2.50\n",
      "\t\t\tMacchiato -  $2.50\n",
      "\tTea\n",
      "\t\t\tWhite tea -  $1.50\n",
      "\t\t\tGreen tea -  $2.00\n",
      "\t\t\tOolong tea -  $2.25\n",
      "\t\t\tBlack tea -  $2.25\n",
      "\t\t\tEarl Grey -  $2.50\n",
      "\t\t\tMatcha -  $2.50\n",
      "\tPastries\n",
      "\t\t\tCroissant -  $5.50\n",
      "\t\t\tCinnamon roll -  $4.50\n",
      "\t\t\tBanana bread -  $4.25\n",
      "\t\t\tPumpkin bread -  $3.75\n",
      "\t\t\tSticky bun -  $4.25\n",
      "\t\t\tApple turnover -  $3.75\n",
      "\n",
      " Would like to order? (y - to order or any key to stop):\n",
      "y\n",
      "Please enter item name:White tea\n",
      "How many?10\n",
      "\n",
      "would like to order> Type y - to order or Any key to stop):y\n",
      "Please enter item name:Mocha\n",
      "How many?10\n",
      "\n",
      "would like to order> Type y - to order or Any key to stop):n\n",
      "\n",
      "Customer Recipt:\n",
      "\tWhite tea -  $37.50\n",
      "\tMocha -  $37.50\n",
      "\n",
      "Total Amount is 75.0\n",
      "\n",
      "\n",
      "Thank you for visiting MC Cafe!\n"
     ]
    }
   ],
   "source": [
    "print (\"Welcome to MC Cafe!\")\n",
    "\n",
    "display = input (\"\\n Type y if you like to see our menu,  otherwise press any key to order with out menu:\")\n",
    "orderRecipt = {}\n",
    "totalAmount = 0.0\n",
    "if display == 'y':\n",
    "    displayMenu()\n",
    "    contineOrder = input (\"\\n Would like to order? (y - to order or any key to stop):\\n\")\n",
    "    while contineOrder == 'y':\n",
    "        item = input (\"Please enter item name:\")\n",
    "        qty  = int(input(\"How many?\"))\n",
    "        itemPrice = getPrice(item)\n",
    "        orderRecipt[item] = itemPrice*qty\n",
    "        totalAmount += itemPrice*qty\n",
    "        print(\"\")\n",
    "        contineOrder = input (\"would like to order> Type y - to order or Any key to stop):\")\n",
    "     \n",
    "    print (\"\\nCustomer Recipt:\")\n",
    "    for order, value in orderRecipt.items():    \n",
    "        print(f\"\\t{order} -  ${value:.2f}\")\n",
    "    print (f\"\\nTotal Amount is {totalAmount}\")\n",
    "\n",
    "print (\"\\n\\nThank you for visiting MC Cafe!\")"
   ]
  },
  {
   "cell_type": "code",
   "execution_count": null,
   "id": "259161ad",
   "metadata": {},
   "outputs": [],
   "source": []
  },
  {
   "cell_type": "code",
   "execution_count": null,
   "id": "d339991f",
   "metadata": {},
   "outputs": [],
   "source": []
  }
 ],
 "metadata": {
  "kernelspec": {
   "display_name": "Python 3",
   "language": "python",
   "name": "python3"
  },
  "language_info": {
   "codemirror_mode": {
    "name": "ipython",
    "version": 3
   },
   "file_extension": ".py",
   "mimetype": "text/x-python",
   "name": "python",
   "nbconvert_exporter": "python",
   "pygments_lexer": "ipython3",
   "version": "3.8.8"
  }
 },
 "nbformat": 4,
 "nbformat_minor": 5
}
